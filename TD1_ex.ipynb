{
  "cells": [
    {
      "cell_type": "markdown",
      "metadata": {
        "id": "QZJSs4w9BCK-"
      },
      "source": [
        "# TD 1: Fairness notion examples\n",
        "\n",
        "In this first TD we are going to manipulate some data and see the behaviour of the different fairness metrics"
      ]
    },
    {
      "cell_type": "markdown",
      "metadata": {
        "id": "qRJyTtCtBCLA"
      },
      "source": [
        "Environnement python3.10"
      ]
    },
    {
      "cell_type": "code",
      "execution_count": null,
      "metadata": {
        "id": "Ozn0aZUVBKKg"
      },
      "outputs": [],
      "source": [
        "!pip install --upgrade pip\n",
        "!pip install numpy==1.25\n",
        "!pip install fairlearn==0.9.0\n",
        "!pip install plotly==5.15.5\n",
        "!pip install scikit-learn\n"
      ]
    },
    {
      "cell_type": "markdown",
      "source": [
        "# !!! Attention !!!, après avoir executé la cellule ci-dessus, il faudra redémarrer la session (onglet \"Execution\") afin de charger l'environnement installé"
      ],
      "metadata": {
        "id": "Oam0vn35n7jK"
      }
    },
    {
      "cell_type": "code",
      "execution_count": null,
      "metadata": {
        "id": "Og_MTRgvCkqW"
      },
      "outputs": [],
      "source": [
        "!python --version"
      ]
    },
    {
      "cell_type": "markdown",
      "metadata": {
        "id": "MCKXApFuBCLC"
      },
      "source": [
        "\n",
        "## Objectives\n",
        "\n",
        "\n",
        " 1. Study the data, the distribution of each feature and its relation to the target.\n",
        "\n",
        " 2. Highlight some bias present in the data\n",
        "\n",
        " 3. Learn a basic machine learning model using logistic regression\n",
        "\n",
        " 4. Compute the confusion matrix and different fairness metrics\n",
        "\n",
        "## Dataset: Diabetes 130-Hospitals\n",
        "\n",
        "\n",
        "https://fairlearn.org/main/api_reference/generated/fairlearn.datasets.fetch_diabetes_hospital.html\n",
        "\n",
        "Ce dataset contient 101,766 lignes chacunes concernant un patient hospitalisé pour du diabètes sur une durée allant de 1 à 14 jours. Les données ont été récoltées sur 10 ans et 130 hopitaux différents. Chaque donnée possède 25 caractéristiques concernant des informations médicales, mais aussi demographiques, enfin la colonne 'readmitted' indique si le patient a été réadmis, et si oui s'il l'a été dans les 30jours ou après. Cette colonne est binarisée en deux autres 'readmit_30_days' (True si réadmis dans les 30 jours, False sinon) et 'readmitted' ( True si réadmis, False sinon).\n",
        "\n",
        "Nous utiliserons en label/vérité, la colonne 'readmit_30_days'.\n",
        "\n",
        "Nous allons simplifier en ne considérant qu'un sous-ensemble de 14 des caractéristiques fournies:\n",
        "age, gender, race, time_in_hospital, num_lab_procedures, num_procedures, num_medications, number_diagnoses, max_glu_serum, A1Cresult, insulin, had_emergency, had_inpatient_days, had_outpatient_days\n",
        "\n",
        "\n",
        "\n"
      ]
    },
    {
      "cell_type": "markdown",
      "metadata": {
        "id": "v6YE9bSd3qgG"
      },
      "source": [
        "## Download and simplify the dataset"
      ]
    },
    {
      "cell_type": "code",
      "execution_count": null,
      "metadata": {
        "id": "XbEeXIwwKLqa"
      },
      "outputs": [],
      "source": [
        "import numpy as np\n",
        "import fairlearn\n",
        "np.__version__, fairlearn.__version__"
      ]
    },
    {
      "cell_type": "code",
      "execution_count": null,
      "metadata": {
        "id": "n3HDPkgdBCLD"
      },
      "outputs": [],
      "source": [
        "from fairlearn.datasets import fetch_diabetes_hospital\n",
        "dataset = fetch_diabetes_hospital()"
      ]
    },
    {
      "cell_type": "code",
      "execution_count": null,
      "metadata": {
        "id": "eS5ap_RGBCLG"
      },
      "outputs": [],
      "source": [
        "selection = [\n",
        "    \"age\",\n",
        "    \"gender\",\n",
        "    \"race\",\n",
        "    \"time_in_hospital\",\n",
        "    \"num_lab_procedures\",\n",
        "    \"num_procedures\",\n",
        "    \"num_medications\",\n",
        "    \"number_diagnoses\",\n",
        "    \"max_glu_serum\",\n",
        "    \"A1Cresult\",\n",
        "    \"insulin\",\n",
        "    \"had_emergency\",\n",
        "    \"had_inpatient_days\",\n",
        "    \"had_outpatient_days\"]\n",
        "df = dataset.data[selection].copy(deep=True)\n",
        "label = 'readmit_30_days'\n",
        "df[label] = dataset.target\n",
        "# We transform boolean into integer, False=>0, True=>1\n",
        "df.had_emergency = df.had_emergency.replace({\"True\":1, \"False\":0})\n",
        "df.had_inpatient_days = df.had_inpatient_days.replace({\"True\":1, \"False\":0})\n",
        "df.had_outpatient_days = df.had_outpatient_days.replace({\"True\":1, \"False\":0})\n",
        "df"
      ]
    },
    {
      "cell_type": "markdown",
      "metadata": {
        "id": "qySVWo6f7FkU"
      },
      "source": [
        "## Part 1: Data Analysis"
      ]
    },
    {
      "cell_type": "markdown",
      "metadata": {
        "id": "_qjpeC-OQFDA"
      },
      "source": [
        "### Question1 : Count the number of positive and negative label"
      ]
    },
    {
      "cell_type": "markdown",
      "metadata": {
        "id": "eLYrjnOlBCLH"
      },
      "source": [
        "Now we look at the different features.\n",
        "First the numerical features\n",
        "\n",
        "### Question2: Display the distribution of the numerical features and compute their correlation with the target"
      ]
    },
    {
      "cell_type": "code",
      "execution_count": null,
      "metadata": {
        "id": "td0AM-NLaPWp"
      },
      "outputs": [],
      "source": [
        "def Compute_correlation(cola, colb):\n",
        "  return np.corrcoef(df[cola].values, df[colb].values)[0][1]"
      ]
    },
    {
      "cell_type": "code",
      "execution_count": null,
      "metadata": {
        "id": "oydvAfT38ivu",
        "colab": {
          "base_uri": "https://localhost:8080/"
        },
        "outputId": "d390413d-12f9-4e8f-be7f-752f317902d8"
      },
      "outputs": [
        {
          "output_type": "execute_result",
          "data": {
            "text/plain": [
              "['time_in_hospital',\n",
              " 'num_lab_procedures',\n",
              " 'num_procedures',\n",
              " 'num_medications',\n",
              " 'number_diagnoses',\n",
              " 'readmit_30_days']"
            ]
          },
          "metadata": {},
          "execution_count": 10
        }
      ],
      "source": [
        "numerical_features = list(df.select_dtypes(include=np.number).columns)\n",
        "numerical_features"
      ]
    },
    {
      "cell_type": "markdown",
      "metadata": {
        "id": "1fwQvgwOBtHe"
      },
      "source": [
        "Then we consider the categorical features.\n",
        "\n",
        "### Question3: Display histogram of categorical distribution by label for each categorical features."
      ]
    },
    {
      "cell_type": "code",
      "execution_count": null,
      "metadata": {
        "id": "rPkvob6lB82i"
      },
      "outputs": [],
      "source": [
        "import plotly.express as px\n",
        "\n",
        "def Display_categorical_hist(cat_feature, target):\n",
        "  fig = px.histogram(df, x=cat_feature, color=target)\n",
        "  fig.show()"
      ]
    },
    {
      "cell_type": "code",
      "execution_count": null,
      "metadata": {
        "id": "CX-efW10C1E8"
      },
      "outputs": [],
      "source": []
    },
    {
      "cell_type": "markdown",
      "metadata": {
        "id": "NTiqlSctEbX_"
      },
      "source": [
        "### Question4: What are the bias highlighted by the data analysis ?\n"
      ]
    },
    {
      "cell_type": "markdown",
      "metadata": {
        "id": "EVXBYtmeGUQ8"
      },
      "source": [
        "## Part 2: Learn a Decision Tree and study the fairness of its output"
      ]
    },
    {
      "cell_type": "markdown",
      "metadata": {
        "id": "DGdBpyVHG3pA"
      },
      "source": [
        "### Question5: Utiliser la technique du \"one hot encoding\" pour transformer chaque colonne categorielle à N catégories en N colonnes binaires"
      ]
    },
    {
      "cell_type": "markdown",
      "metadata": {
        "id": "w9qF0cjzOCIp"
      },
      "source": [
        "### Question6 : Split data into train and test sets\n",
        "\n"
      ]
    },
    {
      "cell_type": "markdown",
      "metadata": {
        "id": "RLOBuscUORlg"
      },
      "source": [
        "### Question 7: Train a DecisionTreeClassifier (https://scikit-learn.org/stable/modules/tree.html#classification)"
      ]
    },
    {
      "cell_type": "markdown",
      "metadata": {
        "id": "tl9tq0RbPLWG"
      },
      "source": [
        "### Question8: Compute the Confusion Matrix"
      ]
    },
    {
      "cell_type": "markdown",
      "metadata": {
        "id": "w20fbl9aP6GW"
      },
      "source": [
        "### Question 9: Compute base rate metrics for the gender"
      ]
    },
    {
      "cell_type": "markdown",
      "metadata": {
        "id": "ibLZX7YagjuH"
      },
      "source": [
        "### Question 11: Compute model calibration according the gender"
      ]
    },
    {
      "cell_type": "code",
      "execution_count": null,
      "metadata": {
        "id": "Amgp-HSKgjuK"
      },
      "outputs": [],
      "source": []
    }
  ],
  "metadata": {
    "colab": {
      "provenance": []
    },
    "kernelspec": {
      "display_name": "env",
      "language": "python",
      "name": "python3"
    },
    "language_info": {
      "codemirror_mode": {
        "name": "ipython",
        "version": 3
      },
      "file_extension": ".py",
      "mimetype": "text/x-python",
      "name": "python",
      "nbconvert_exporter": "python",
      "pygments_lexer": "ipython3",
      "version": "3.10.12"
    }
  },
  "nbformat": 4,
  "nbformat_minor": 0
}